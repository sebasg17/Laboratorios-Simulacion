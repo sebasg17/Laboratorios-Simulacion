{
 "cells": [
  {
   "cell_type": "markdown",
   "metadata": {},
   "source": [
    "# Test Rachas"
   ]
  },
  {
   "cell_type": "code",
   "execution_count": null,
   "metadata": {
    "collapsed": true
   },
   "outputs": [],
   "source": [
    "import numpy as np\n",
    "import matplotlib.pyplot as plt\n",
    "import math\n",
    "\n",
    "x = float(input(\"Ingrese Semilla: \"))\n",
    "a = float(input(\"Ingrese Multiplicador: \"))\n",
    "c = float(input(\"Ingrese Constante Aditiva: \"))\n",
    "#m = float(input(\"Modulo: \"))\n",
    "m = float (math.pow(2,16)+1)\n",
    "can = float (100)\n",
    "k = 11  \n",
    "ite = 0\n",
    "res = 0\n",
    "lista = []\n",
    "rachas = []           \n",
    "rachas.append(' ')\n",
    "\n",
    "while(can != ite):\n",
    "    if(ite == 0):\n",
    "        res = x\n",
    "    x = (a * x + c) % m\n",
    "    y = x / m\n",
    "    ite = ite + 1\n",
    "    lista.append(y)\n",
    "\n",
    "for i in range(1, len(lista)):\n",
    "    rachas.append(0)\n",
    "        \n",
    "for i in range(0, len(lista) - 1):\n",
    "    if lista [i + 1] > lista[i]:\n",
    "        rachas[i + 1] = 1\n",
    "print '\\nRachas = ' + str(rachas)\n",
    "    \n",
    "numRachas = 0\n",
    "print (rachas[0])\n",
    "for i in range(1, len(rachas) - 1):\n",
    "    if rachas[i + 1] != rachas[i]:\n",
    "        numRachas += 1\n",
    "numRachas += 1\n",
    "print 'Numero de rachas= ' + str(numRachas) + '\\n'\n",
    "        \n",
    "n = len(lista)\n",
    "z = (numRachas - ((2 * n - 1) / float(3))) / (math.sqrt(( 16 * n - 29)/float(90)))\n",
    "print 'Z = ' + str(z)"
   ]
  }
 ],
 "metadata": {
  "kernelspec": {
   "display_name": "Python 2",
   "language": "python",
   "name": "python2"
  },
  "language_info": {
   "codemirror_mode": {
    "name": "ipython",
    "version": 2
   },
   "file_extension": ".py",
   "mimetype": "text/x-python",
   "name": "python",
   "nbconvert_exporter": "python",
   "pygments_lexer": "ipython2",
   "version": "2.7.11"
  }
 },
 "nbformat": 4,
 "nbformat_minor": 0
}
