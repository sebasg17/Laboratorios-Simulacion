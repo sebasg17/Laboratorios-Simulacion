{
 "cells": [
  {
   "cell_type": "markdown",
   "metadata": {},
   "source": [
    "# Test Kolmogorov"
   ]
  },
  {
   "cell_type": "code",
   "execution_count": null,
   "metadata": {
    "collapsed": false
   },
   "outputs": [],
   "source": [
    "import numpy as np\n",
    "import matplotlib.pyplot as plt\n",
    "import math\n",
    "\n",
    "x = float(input(\"Ingrese Semilla: \"))\n",
    "a = float(input(\"Ingrese Multiplicador: \"))\n",
    "c = float(input(\"Ingrese Constante Aditiva: \"))\n",
    "m = float(input(\"Ingrese Modulo: \"))\n",
    "can = float(input(\"Cantidad de valores a generar: \"))\n",
    "ite = 0\n",
    "res = 0\n",
    "lista = []\n",
    "\n",
    "while(can != ite):\n",
    "    if(ite == 0):\n",
    "        res = x\n",
    "    x = (a * x + c) % m\n",
    "    y = x / m\n",
    "    #print ite, \"\\t\",y,\"\\t\",x\n",
    "    ite = ite + 1\n",
    "    lista.append(y)\n",
    "\n",
    "N = len(lista)\n",
    "u = [1.0] * N\n",
    "\n",
    "count, bins, ignored = plt.hist(lista, 25, normed=True)\n",
    "plt.plot(bins, np.ones_like(bins), linewidth=2, color='r')\n",
    "plt.show()\n",
    "    \n",
    "x1 = np.arange(1/float(N), 1+1/float(N) , 1/float(N))\n",
    "y1 = np.cumsum(np.sort(u)/np.max(np.cumsum(u)))\n",
    "    \n",
    "x2 = np.sort(lista)\n",
    "y2 = np.cumsum(np.sort(lista)/np.max(np.cumsum(lista)))\n",
    "    \n",
    "De=np.absolute(y2-y1)\n",
    "print(\"De = \",np.max(De))\n",
    "    \n",
    "\n",
    "plt.plot(x1,y1,label='Uniform')\n",
    "plt.step(x2,y2,label='Random')\n",
    "x3 = [x1[De.argmax()],x1[De.argmax()]]\n",
    "y3 = [np.min([y1[De.argmax()],y2[De.argmax()]]),np.max([y1[De.argmax()],y2[De.argmax()]])]\n",
    "plt.step(x3,y3,label='D')\n",
    "plt.legend()\n",
    "plt.xlabel('X')\n",
    "plt.ylabel('Cumulative Probability P(X)')\n",
    "plt.ylim(0, 1.05)\n",
    "plt.show()\n",
    "    \n",
    "\n",
    "from scipy import stats\n",
    "D,pvalue = stats.kstest(y2, 'uniform')\n",
    "print(\"D = \", D)\n",
    "print(\"p-value = \", pvalue)"
   ]
  },
  {
   "cell_type": "code",
   "execution_count": null,
   "metadata": {
    "collapsed": true
   },
   "outputs": [],
   "source": []
  }
 ],
 "metadata": {
  "kernelspec": {
   "display_name": "Python 2",
   "language": "python",
   "name": "python2"
  },
  "language_info": {
   "codemirror_mode": {
    "name": "ipython",
    "version": 2
   },
   "file_extension": ".py",
   "mimetype": "text/x-python",
   "name": "python",
   "nbconvert_exporter": "python",
   "pygments_lexer": "ipython2",
   "version": "2.7.11"
  }
 },
 "nbformat": 4,
 "nbformat_minor": 0
}
