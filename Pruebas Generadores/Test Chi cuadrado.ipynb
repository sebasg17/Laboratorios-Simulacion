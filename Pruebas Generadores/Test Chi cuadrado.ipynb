{
 "cells": [
  {
   "cell_type": "markdown",
   "metadata": {},
   "source": [
    "# Test Chi cuadrado"
   ]
  },
  {
   "cell_type": "code",
   "execution_count": null,
   "metadata": {
    "collapsed": false
   },
   "outputs": [],
   "source": [
    "import numpy as np\n",
    "import matplotlib.pyplot as plt\n",
    "import math\n",
    "\n",
    "x = float(input(\"Semilla: \"))\n",
    "a = float(input(\"Multiplicador: \"))\n",
    "c = float(input(\"Constante Aditiva: \"))\n",
    "#m = float(input(\"Modulo: \"))\n",
    "m = float (math.pow(2,16)+1)\n",
    "can = 1000\n",
    "k = 11  \n",
    "ite = 0\n",
    "res = 0\n",
    "lista = []\n",
    "\n",
    "while(can != ite):\n",
    "    if(ite == 0):\n",
    "        res = x\n",
    "    x = (a * x + c) % m\n",
    "    y = x / m\n",
    "    ite = ite + 1\n",
    "    lista.append(y)\n",
    "\n",
    "longitudIntervalo = 1 / float(k) \n",
    "frecuenciasObservadas = []           \n",
    "\n",
    "for i in range(0,k):\n",
    "    frecuenciasObservadas.append(0)\n",
    "    \n",
    "for i in range(len(lista)):\n",
    "    cont = 1\n",
    "    for j in range(0,k):     \n",
    "        if lista[i] > (cont - 1) * longitudIntervalo and lista[i] <= cont * longitudIntervalo:\n",
    "            frecuenciasObservadas[j] += 1\n",
    "        cont += 1 \n",
    "            \n",
    "frecuenciaEsperada = len(lista) / float(k)\n",
    "estimadoJiCuadrado = 0.0\n",
    "        \n",
    "for i in range(0,k):\n",
    "    estimadoJiCuadrado += (frecuenciasObservadas[i] - frecuenciaEsperada)**2 / frecuenciaEsperada\n",
    "print estimadoJiCuadrado"
   ]
  },
  {
   "cell_type": "code",
   "execution_count": null,
   "metadata": {
    "collapsed": true
   },
   "outputs": [],
   "source": []
  }
 ],
 "metadata": {
  "kernelspec": {
   "display_name": "Python 2",
   "language": "python",
   "name": "python2"
  },
  "language_info": {
   "codemirror_mode": {
    "name": "ipython",
    "version": 2
   },
   "file_extension": ".py",
   "mimetype": "text/x-python",
   "name": "python",
   "nbconvert_exporter": "python",
   "pygments_lexer": "ipython2",
   "version": "2.7.11"
  }
 },
 "nbformat": 4,
 "nbformat_minor": 0
}
