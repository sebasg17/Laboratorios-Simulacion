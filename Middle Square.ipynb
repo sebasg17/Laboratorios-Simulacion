{
 "cells": [
  {
   "cell_type": "code",
   "execution_count": 1,
   "metadata": {
    "collapsed": false
   },
   "outputs": [
    {
     "name": "stdout",
     "output_type": "stream",
     "text": [
      "hola\n"
     ]
    }
   ],
   "source": [
    "def randMs(semilla, cantidad):\n",
    "    num = []\n",
    "    xn = semilla\n",
    "    for i in range(cantidad):\n",
    "\n",
    "        n = str(xn**2)\n",
    "        xn = str(xn)\n",
    "\n",
    "        if len(n)==2*len(xn):\n",
    "            y1=(len(xn)/2)\n",
    "            y2=y1+len(xn)\n",
    "            u=n[y1:y2]\n",
    "        else:            \n",
    "            y1=(len(xn)/2)-1\n",
    "            y2=y1+len(xn)\n",
    "            u = n[y1:y2]\n",
    "\n",
    "        if u == '':\n",
    "            u += '0'\n",
    "\n",
    "        xn = int(u)\n",
    "        u = '0,'+u\n",
    "        num.append(u)\n",
    "    return num\n"
   ]
  },
  {
   "cell_type": "code",
   "execution_count": null,
   "metadata": {
    "collapsed": true
   },
   "outputs": [],
   "source": []
  }
 ],
 "metadata": {
  "kernelspec": {
   "display_name": "Python 2",
   "language": "python",
   "name": "python2"
  },
  "language_info": {
   "codemirror_mode": {
    "name": "ipython",
    "version": 2
   },
   "file_extension": ".py",
   "mimetype": "text/x-python",
   "name": "python",
   "nbconvert_exporter": "python",
   "pygments_lexer": "ipython2",
   "version": "2.7.11"
  }
 },
 "nbformat": 4,
 "nbformat_minor": 0
}
