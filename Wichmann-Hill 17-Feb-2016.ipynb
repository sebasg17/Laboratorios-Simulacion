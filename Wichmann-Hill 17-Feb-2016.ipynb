{
 "cells": [
  {
   "cell_type": "markdown",
   "metadata": {},
   "source": [
    "# Wichmann-Hill"
   ]
  },
  {
   "cell_type": "code",
   "execution_count": 27,
   "metadata": {
    "collapsed": false
   },
   "outputs": [
    {
     "name": "stdout",
     "output_type": "stream",
     "text": [
      "[0.4450435093508276, 0.9918998653209514, 0.08409904678942848, 0.05131983064537149, 0.9930900277336385, 0.17490936825827985, 0.09111314884894028, 0.20371230953684982, 0.7144375945791399, 0.844039482066512]\n"
     ]
    }
   ],
   "source": [
    "%matplotlib inline \n",
    "import matplotlib.pyplot as plt\n",
    "\n",
    "def WichmannHill(s1,s2,s3,n):\n",
    "    m=[]\n",
    "    for i in range (n):\n",
    "        s1= ((171*s1)%(30269))\n",
    "        s2= ((172*s2)%(30307))\n",
    "        s3= ((170*s3)%(30323))\n",
    "        \n",
    "        u=(((s1/30269.0)+(s2/30307.0)+(s3/30323.0))%1)\n",
    "        m.append(u)\n",
    "        \n",
    "    return m\n",
    "\n",
    "print WichmannHill(13,23,43,10)"
   ]
  },
  {
   "cell_type": "markdown",
   "metadata": {
    "collapsed": true
   },
   "source": [
    "# Wichmann-Hill s1=13 s2=23 s3=43 N=1000000"
   ]
  },
  {
   "cell_type": "code",
   "execution_count": 23,
   "metadata": {
    "collapsed": false
   },
   "outputs": [
    {
     "data": {
      "image/png": "[encoded data removed]",
      "text/plain": [
       "<matplotlib.figure.Figure at 0x3f25400>"
      ]
     },
     "metadata": {},
     "output_type": "display_data"
    }
   ],
   "source": [
    "resultado = WichmannHill(13,23,43,1000000)\n",
    "\n",
    "plt.hist(resultado, 10)\n",
    "plt.show()"
   ]
  },
  {
   "cell_type": "markdown",
   "metadata": {
    "collapsed": true
   },
   "source": [
    "# Wichmann-Hill s1=20000 s2=25000 s3=30000 N=1000000"
   ]
  },
  {
   "cell_type": "code",
   "execution_count": 28,
   "metadata": {
    "collapsed": false
   },
   "outputs": [
    {
     "data": {
      "image/png": "[encoded data removed]",
      "text/plain": [
       "<matplotlib.figure.Figure at 0x7facda0>"
      ]
     },
     "metadata": {},
     "output_type": "display_data"
    }
   ],
   "source": [
    "resultado = WichmannHill(20000,25000,30000,1000000)\n",
    "\n",
    "plt.hist(resultado, 10)\n",
    "plt.show()"
   ]
  },
  {
   "cell_type": "code",
   "execution_count": null,
   "metadata": {
    "collapsed": true
   },
   "outputs": [],
   "source": []
  }
 ],
 "metadata": {
  "kernelspec": {
   "display_name": "Python 2",
   "language": "python",
   "name": "python2"
  },
  "language_info": {
   "codemirror_mode": {
    "name": "ipython",
    "version": 2
   },
   "file_extension": ".py",
   "mimetype": "text/x-python",
   "name": "python",
   "nbconvert_exporter": "python",
   "pygments_lexer": "ipython2",
   "version": "2.7.11"
  }
 },
 "nbformat": 4,
 "nbformat_minor": 0
}
