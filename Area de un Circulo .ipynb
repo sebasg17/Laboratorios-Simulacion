{
 "cells": [
  {
   "cell_type": "markdown",
   "metadata": {},
   "source": [
    "# Area de un Circulo "
   ]
  },
  {
   "cell_type": "code",
   "execution_count": 3,
   "metadata": {
    "collapsed": false
   },
   "outputs": [],
   "source": [
    "import numpy as np\n",
    "import matplotlib.pyplot as plt\n",
    "import math\n",
    "\n",
    "def randuX(n):\n",
    "   \n",
    "    x0 = 7          \n",
    "    valores = []\n",
    "    for i in range(0,n):\n",
    "        xi = (170*x0 + 1)%30323\n",
    "        ui = xi/30323.0\n",
    "        valores.append(ui)\n",
    "        x0 = xi\n",
    "    return valores\n",
    "\n",
    "\n",
    "def randuY(n):\n",
    "   \n",
    "    x0 = 7          \n",
    "    valores = []\n",
    "    for i in range(0,n):\n",
    "        xi = (172*x0 + 1)%30307\n",
    "        ui = xi/30307.0\n",
    "        valores.append(ui)\n",
    "        x0 = xi\n",
    "    return valores\n",
    "\n",
    "\n",
    "def Area(r):\n",
    "    \n",
    "    num = 500                         \n",
    "    coordUx = randuX(num)  \n",
    "    coordUy = randuY(num)  \n",
    "    coordXi = []\n",
    "    coordYi = []\n",
    "    k = r       \n",
    "   \n",
    "    for i in range(0, num):\n",
    "        xi = 2*k*coordUx[i]-k\n",
    "        coordXi.append(xi)\n",
    "        yi = 2*k*coordUy[i]-k\n",
    "        coordYi.append(yi)\n",
    "        \n",
    "      \n",
    "    x = np.arange(-r,r+1,0.01)\n",
    "    y = np.sqrt(r**2 - x**2) \n",
    "                             \n",
    "    y1 = -y\n",
    "    x1 = np.arange(-k,k,0.01)\n",
    "    y2 = 0*x1 + k\n",
    "    y3 = 0*x1 -k\n",
    "    y4 = np.arange(-k,k,0.01)\n",
    "    x2 = 0*y4 + k\n",
    "    x3 = 0*y4 - k\n",
    "    plt.plot(x,y)\n",
    "    plt.plot(x,y1,color='blue')\n",
    "    plt.plot(x1,y2,color='red')\n",
    "    plt.plot(x1,y3,color='red')\n",
    "    plt.plot(x2,y4,color='red')\n",
    "    plt.plot(x3,y4,color='red')\n",
    "    \n",
    "    contador = 0    \n",
    "    for i in range(0, num):\n",
    "        xi = coordXi[i]\n",
    "        yi = coordYi[i]\n",
    "        if r**2 >= (xi**2 + yi**2):\n",
    "           contador = contador + 1        \n",
    "           plt.plot(coordXi[i], coordYi[i], 'ro')\n",
    "        else:\n",
    "           plt.plot(coordXi[i], coordYi[i], 'go')\n",
    "         \n",
    "    areaEstimada = (contador/float(num))*((2*r)**2)\n",
    "    areaReal = math.pi*(r**2)\n",
    "    \n",
    "    \n",
    "    plt.axis([-k-3, k+3, -k-3, k+3 ]) \n",
    "    plt.xlabel('Coordenadas x')  \n",
    "    plt.ylabel('Coordenadas y')  \n",
    "    plt.title('Area real = ' + str(areaReal) + '   Area estimada = ' + str(areaEstimada) + \n",
    "    '   Error = ' + str(abs(areaReal-areaEstimada)) )\n",
    "    plt.show()\n",
    "\n",
    "Area()"
   ]
  },
  {
   "cell_type": "code",
   "execution_count": null,
   "metadata": {
    "collapsed": true
   },
   "outputs": [],
   "source": []
  }
 ],
 "metadata": {
  "kernelspec": {
   "display_name": "Python 2",
   "language": "python",
   "name": "python2"
  },
  "language_info": {
   "codemirror_mode": {
    "name": "ipython",
    "version": 2
   },
   "file_extension": ".py",
   "mimetype": "text/x-python",
   "name": "python",
   "nbconvert_exporter": "python",
   "pygments_lexer": "ipython2",
   "version": "2.7.11"
  }
 },
 "nbformat": 4,
 "nbformat_minor": 0
}
