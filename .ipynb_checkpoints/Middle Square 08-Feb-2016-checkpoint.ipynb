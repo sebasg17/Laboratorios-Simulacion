{
 "cells": [
  {
   "cell_type": "markdown",
   "metadata": {
    "collapsed": true
   },
   "source": [
    "# MiddleSquare"
   ]
  },
  {
   "cell_type": "code",
   "execution_count": 3,
   "metadata": {
    "collapsed": false
   },
   "outputs": [
    {
     "name": "stdout",
     "output_type": "stream",
     "text": [
      "['0,5006', '0,0600', '0,3600', '0,9600', '0,1600', '0,5600', '0,3600', '0,9600', '0,1600', '0,5600', '0,3600', '0,9600', '0,1600', '0,5600', '0,3600', '0,9600', '0,1600', '0,5600', '0,3600', '0,9600', '0,1600', '0,5600', '0,3600', '0,9600', '0,1600', '0,5600', '0,3600', '0,9600', '0,1600', '0,5600', '0,3600', '0,9600', '0,1600', '0,5600', '0,3600', '0,9600', '0,1600', '0,5600', '0,3600', '0,9600', '0,1600', '0,5600', '0,3600', '0,9600', '0,1600', '0,5600', '0,3600', '0,9600', '0,1600', '0,5600', '0,3600', '0,9600', '0,1600', '0,5600', '0,3600', '0,9600', '0,1600', '0,5600', '0,3600', '0,9600', '0,1600', '0,5600', '0,3600', '0,9600', '0,1600', '0,5600', '0,3600', '0,9600', '0,1600', '0,5600', '0,3600', '0,9600', '0,1600', '0,5600', '0,3600', '0,9600', '0,1600', '0,5600', '0,3600', '0,9600', '0,1600', '0,5600', '0,3600', '0,9600', '0,1600', '0,5600', '0,3600', '0,9600', '0,1600', '0,5600', '0,3600', '0,9600', '0,1600', '0,5600', '0,3600', '0,9600', '0,1600', '0,5600', '0,3600', '0,9600']\n"
     ]
    }
   ],
   "source": [
    "def MiddleSquare(semilla, repeticiones):\n",
    "    num = []\n",
    "    xn = semilla\n",
    "    for i in range(repeticiones):\n",
    "        n = str(xn**2)\n",
    "        for i in range(2*len(str(semilla))-len(n)):\n",
    "            n='0'+n\n",
    "            \n",
    "        y1=(len(str(semilla))/2)\n",
    "        u=n[y1:-y1]\n",
    "\n",
    "        xn = int(u)\n",
    "        u = '0,'+u\n",
    "        num.append(u)\n",
    "    return num\n",
    "print MiddleSquare(1225,100)"
   ]
  }
 ],
 "metadata": {
  "kernelspec": {
   "display_name": "Python 2",
   "language": "python",
   "name": "python2"
  },
  "language_info": {
   "codemirror_mode": {
    "name": "ipython",
    "version": 2
   },
   "file_extension": ".py",
   "mimetype": "text/x-python",
   "name": "python",
   "nbconvert_exporter": "python",
   "pygments_lexer": "ipython2",
   "version": "2.7.11"
  }
 },
 "nbformat": 4,
 "nbformat_minor": 0
}
