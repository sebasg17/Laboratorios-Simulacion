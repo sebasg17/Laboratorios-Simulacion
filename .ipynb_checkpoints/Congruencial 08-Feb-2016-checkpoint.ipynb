{
 "cells": [
  {
   "cell_type": "markdown",
   "metadata": {},
   "source": [
    "# Congluencial"
   ]
  },
  {
   "cell_type": "code",
   "execution_count": 6,
   "metadata": {
    "collapsed": false
   },
   "outputs": [
    {
     "name": "stdout",
     "output_type": "stream",
     "text": [
      "[0.375, 0.0625, 0.5, 0.6875, 0.625, 0.3125, 0.75, 0.9375, 0.875, 0.5625, 0.0, 0.1875, 0.125, 0.8125, 0.25, 0.4375, 0.375, 0.0625, 0.5, 0.6875, 0.625, 0.3125, 0.75, 0.9375, 0.875, 0.5625, 0.0, 0.1875, 0.125, 0.8125, 0.25, 0.4375, 0.375, 0.0625, 0.5, 0.6875, 0.625, 0.3125, 0.75, 0.9375, 0.875, 0.5625, 0.0, 0.1875, 0.125, 0.8125, 0.25, 0.4375, 0.375, 0.0625]\n"
     ]
    }
   ],
   "source": [
    "def congluencial(a,b,m,x0,n):\n",
    "    xn=0.0\n",
    "    un=0.0\n",
    "    numAleatorio= []\n",
    "    for i in range(0,n):\n",
    "        xn=(a*x0 + b)%m\n",
    "        un=xn/float(m)\n",
    "        numAleatorio.insert(i,un)\n",
    "        x0=xn\n",
    "    return numAleatorio\n",
    "\n",
    "numerosAleatorios = congluencial(5,3,16,7,50)\n",
    "print numerosAleatorios"
   ]
  },
  {
   "cell_type": "code",
   "execution_count": null,
   "metadata": {
    "collapsed": true
   },
   "outputs": [],
   "source": []
  }
 ],
 "metadata": {
  "kernelspec": {
   "display_name": "Python 2",
   "language": "python",
   "name": "python2"
  },
  "language_info": {
   "codemirror_mode": {
    "name": "ipython",
    "version": 2
   },
   "file_extension": ".py",
   "mimetype": "text/x-python",
   "name": "python",
   "nbconvert_exporter": "python",
   "pygments_lexer": "ipython2",
   "version": "2.7.11"
  }
 },
 "nbformat": 4,
 "nbformat_minor": 0
}
