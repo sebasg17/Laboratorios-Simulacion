{
 "cells": [
  {
   "cell_type": "markdown",
   "metadata": {},
   "source": [
    "# Inversion ( 8 y 13 caras ) "
   ]
  },
  {
   "cell_type": "code",
   "execution_count": null,
   "metadata": {
    "collapsed": false
   },
   "outputs": [],
   "source": [
    "import numpy as np\n",
    "import matplotlib.pyplot as plt\n",
    "import math\n",
    "from matplotlib.pylab import hist, show\n",
    "\n",
    "def congruencial(a,b,m,x0,n):\n",
    "    xn=0.0\n",
    "    un=0.0\n",
    "    list = []\n",
    "    for i in range(0,n):\n",
    "        xn=(a*x0 + b)%m\n",
    "        un=xn/float(m)\n",
    "        #print un\n",
    "        list.insert(i,un)\n",
    "        x0=xn\n",
    "    return list\n",
    "\n",
    "def inversion(n):\n",
    "\n",
    "    metodo=congruencial(89.0,56.0,2147483647.0,24.0,n)\n",
    "    funacu=[]\n",
    "    his=[]\n",
    "    x=[]\n",
    "    px=[1.0/104.0,2.0/104.0,3.0/104.0,4.0/104.0,5.0/104.0,6.0/104.0,7.0/104.0,8.0/104.0,8.0/104.0,8.0/104.0,8.0/104.0,8.0/104.0,8.0/104.0,\n",
    "        7.0/104.0,6.0/104.0,5.0/104.0,4.0/104.0,3.0/104.0,2.0/104.0,1.0/104.0]\n",
    "    temp=0.0\n",
    "    funacu.append(0)\n",
    "    for j in range(2,22):\n",
    "        x.append(j)\n",
    "    for i in range(len(px)):\n",
    "        temp+=px[i]\n",
    "        funacu.append(temp)\n",
    "    print 'Lista del método: '\n",
    "    for i in range(len(metodo)):\n",
    "        for j in range(len(funacu)-1):\n",
    "            if(metodo[i]>funacu[j] and metodo[i]<=funacu[j+1]):\n",
    "                print x[j]\n",
    "                his.append(x[j])\n",
    "    grafica(his)\n",
    "    esperanza(x,px)\n",
    "    print \"Valor de la variable aleatoria X:\"\n",
    "    print x\n",
    "    print \"p(x)\"\n",
    "    print px\n",
    "    print \"P(X)\"\n",
    "    print funacu\n",
    "    \n",
    "    \n",
    "def grafica(lista):\n",
    "    count,bins,ignored=plt.hist(lista,21,normed=True)\n",
    "    plt.show()\n",
    "    \n",
    "def esperanza(x,px):\n",
    "    media=0.0\n",
    "    for i in range(len(x)):\n",
    "        media+=(x[i]*px[i])\n",
    "    print 'Valor esperado: '\n",
    "    print media\n",
    "muestras=input('Ingrese la cantidad de numeros aleatorios que desea: ')\n",
    "inversion(muestras)"
   ]
  },
  {
   "cell_type": "code",
   "execution_count": null,
   "metadata": {
    "collapsed": true
   },
   "outputs": [],
   "source": []
  }
 ],
 "metadata": {
  "kernelspec": {
   "display_name": "Python 2",
   "language": "python",
   "name": "python2"
  },
  "language_info": {
   "codemirror_mode": {
    "name": "ipython",
    "version": 2
   },
   "file_extension": ".py",
   "mimetype": "text/x-python",
   "name": "python",
   "nbconvert_exporter": "python",
   "pygments_lexer": "ipython2",
   "version": "2.7.11"
  }
 },
 "nbformat": 4,
 "nbformat_minor": 0
}
