{
 "cells": [
  {
   "cell_type": "markdown",
   "metadata": {},
   "source": [
    "# Inversion "
   ]
  },
  {
   "cell_type": "code",
   "execution_count": null,
   "metadata": {
    "collapsed": false
   },
   "outputs": [],
   "source": [
    "import numpy as np\n",
    "import matplotlib.pyplot as plt\n",
    "import math\n",
    "\n",
    "def congruencial(a,b,m,x0,n):\n",
    "    \n",
    "    xn=0.0\n",
    "    un=0.0\n",
    "    list = []\n",
    "    for i in range(0,n):\n",
    "        xn=(a*x0 + b)%m\n",
    "        un=xn/float(m)\n",
    "        #print un\n",
    "        list.insert(i,un)\n",
    "        x0=xn\n",
    "    return list\n",
    "\n",
    "def inversion(n,x,px):\n",
    "    \n",
    "    metodo=congruencial(89.0,56.0,2147483647.0,24.0,n)\n",
    "    funacu=[]\n",
    "    temp=0.0\n",
    "    funacu.append(0)\n",
    "\n",
    "    for i in range(len(px)):\n",
    "        temp+=px[i]\n",
    "        funacu.append(temp)\n",
    "    print 'Lista de inversion: '\n",
    "    for i in range(len(metodo)):\n",
    "        for j in range(len(funacu)-1):\n",
    "            if(metodo[i]>funacu[j] and metodo[i]<=funacu[j+1]):\n",
    "                print x[j]\n",
    "    print \"Valor de la variable aleatoria X::\"\n",
    "    print x\n",
    "    print \" p(x)\"\n",
    "    print px\n",
    "    print \"P(X)\"\n",
    "    print funacu\n",
    "    print \"Valores aleatorios: \"\n",
    "    print metodo\n",
    "num=input('Ingrese la cantidad de valores de la variable aleatoria')  \n",
    "x=[]\n",
    "px=[]\n",
    "for i in range(num):\n",
    "    val=input('Valor de la variable aleatoria: ')\n",
    "    prom=input('Valor de la probabilidad')\n",
    "    x.append(val)\n",
    "    px.append(prom+0.0)\n",
    "muestras=input('Ingrese la cantidad de valores de la variable aleatoria:')\n",
    "\n",
    "inversion(muestras,x,px) "
   ]
  },
  {
   "cell_type": "code",
   "execution_count": null,
   "metadata": {
    "collapsed": true
   },
   "outputs": [],
   "source": []
  }
 ],
 "metadata": {
  "kernelspec": {
   "display_name": "Python 2",
   "language": "python",
   "name": "python2"
  },
  "language_info": {
   "codemirror_mode": {
    "name": "ipython",
    "version": 2
   },
   "file_extension": ".py",
   "mimetype": "text/x-python",
   "name": "python",
   "nbconvert_exporter": "python",
   "pygments_lexer": "ipython2",
   "version": "2.7.11"
  }
 },
 "nbformat": 4,
 "nbformat_minor": 0
}
