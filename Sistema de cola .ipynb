{
 "cells": [
  {
   "cell_type": "markdown",
   "metadata": {
    "collapsed": true
   },
   "source": [
    "# Sistema de cola"
   ]
  },
  {
   "cell_type": "code",
   "execution_count": null,
   "metadata": {
    "collapsed": true
   },
   "outputs": [],
   "source": [
    "import numpy as np\n",
    "import matplotlib.pyplot as plt\n",
    "import math\n",
    "from matplotlib.pylab import hist, show\n",
    "from scipy.integrate import quad\n",
    "\n",
    "def integrand(x):\n",
    "    return math.exp(-x**2)\n"
   ]
  },
  {
   "cell_type": "code",
   "execution_count": null,
   "metadata": {
    "collapsed": true
   },
   "outputs": [],
   "source": [
    "def normal(miu,sigma,n):\n",
    "    normal=[]\n",
    "    for i in range(n):\n",
    "        inte,err=quad(integrand,0.0,((2.0*(congruencial(89.0,56.0,2147483647.0,24.0,n)[i]))-1.0))\n",
    "        integral=((2.0/((math.pi+0.0)**(1.0/2.0)))+0.0)*inte\n",
    "        ser=miu+(sigma*math.sqrt(2.0))*integral\n",
    "        normal.append(ser)\n",
    "    print normal"
   ]
  },
  {
   "cell_type": "code",
   "execution_count": 8,
   "metadata": {
    "collapsed": false
   },
   "outputs": [],
   "source": [
    "def inversionDiscreta(n):\n",
    "    metodo=congruencial(89.0,56.0,2147483647.0,24.0,n)\n",
    "    funacu=[]\n",
    "    x=[]\n",
    "    px=[]\n",
    "    temp=0.0\n",
    "    funacu.append(0)\n",
    "    lamda=input('Ingrese el valor para el parametro lamda')\n",
    "    for j in range(n):\n",
    "        x.append(j)\n",
    "        px.append(poisson(lamda,j)[j])\n",
    "    for i in range(len(px)):\n",
    "        temp+=px[i]\n",
    "        funacu.append(temp)\n",
    "    print 'Lista generada por inversion: '\n",
    "    histo=[]\n",
    "    for i in range(len(metodo)):\n",
    "        for j in range(len(funacu)-1):\n",
    "            if(metodo[i]>funacu[j] and metodo[i]<=funacu[j+1]):\n",
    "                histo.append(x[j])\n",
    "    plt.hist(histo)\n",
    "    plt.show()\n",
    "    print histo\n",
    "\n",
    "    "
   ]
  },
  {
   "cell_type": "code",
   "execution_count": 10,
   "metadata": {
    "collapsed": false
   },
   "outputs": [],
   "source": [
    "def poisson(lamda,k):\n",
    "    arregloPos=[]\n",
    "    for i in range(1000):\n",
    "        val=(math.exp(-1*lamda)*(lamda**k)/math.factorial(k))+0.0\n",
    "        arregloPos.append(val)\n",
    "    return arregloPos"
   ]
  },
  {
   "cell_type": "code",
   "execution_count": null,
   "metadata": {
    "collapsed": true
   },
   "outputs": [],
   "source": [
    "def congruencial(a,b,m,x0,n):\n",
    "    xn=0.0\n",
    "    un=0.0\n",
    "    list = []\n",
    "    for i in range(0,n):\n",
    "        xn=(a*x0 + b)%m\n",
    "        un=xn/float(m)\n",
    "        #print un\n",
    "        list.insert(i,un)\n",
    "        x0=xn\n",
    "    return list"
   ]
  }
 ],
 "metadata": {
  "kernelspec": {
   "display_name": "Python 2",
   "language": "python",
   "name": "python2"
  },
  "language_info": {
   "codemirror_mode": {
    "name": "ipython",
    "version": 2
   },
   "file_extension": ".py",
   "mimetype": "text/x-python",
   "name": "python",
   "nbconvert_exporter": "python",
   "pygments_lexer": "ipython2",
   "version": "2.7.11"
  }
 },
 "nbformat": 4,
 "nbformat_minor": 0
}
